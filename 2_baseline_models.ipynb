{
 "cells": [
  {
   "cell_type": "markdown",
   "id": "2ffc8a8d-adf9-4036-bc43-cbe8b82c6a26",
   "metadata": {},
   "source": [
    "# 2. Model with original features to predict Mortality"
   ]
  },
  {
   "cell_type": "markdown",
   "id": "1e91ccf1-4618-4057-8cc2-dc6a69680c8f",
   "metadata": {},
   "source": [
    "In this notebook, we will create a baseline machine learning (ML) to predict in-hospital mortality, using the features as originally provided in the dataset, before augmenting the disparities that we may face in reality."
   ]
  },
  {
   "cell_type": "markdown",
   "id": "2fbe88bd-36e6-42e3-a7b7-0b0716b38a05",
   "metadata": {},
   "source": [
    "## Import libraries"
   ]
  },
  {
   "cell_type": "code",
   "execution_count": 4,
   "id": "5ca03556-98a8-43e7-83e9-a3a4b3f93013",
   "metadata": {},
   "outputs": [],
   "source": [
    "import pandas as pd\n",
    "import numpy as np\n",
    "import matplotlib.pyplot as plt\n",
    "import os\n",
    "import warnings\n",
    "warnings.filterwarnings(\"ignore\")"
   ]
  },
  {
   "cell_type": "code",
   "execution_count": null,
   "id": "2c4164ba-e080-410e-8708-87e7a90ae7ac",
   "metadata": {},
   "outputs": [],
   "source": [
    "# some possibilities for modelling and evaluation, uncomment if necessary!\n",
    "\n",
    "# from sklearn.linear_model import LogisticRegression\n",
    "# from sklearn.ensemble import RandomForestClassifier\n",
    "# from sklearn.metrics import roc_auc_score, average_precision_score, accuracy_score, recall_score, precision_score, f1_score, balanced_accuracy_score"
   ]
  },
  {
   "cell_type": "code",
   "execution_count": 1,
   "id": "9c5e098b-b9b9-418a-baf2-5bf6c4ead449",
   "metadata": {},
   "outputs": [],
   "source": [
    "# import XGBoost, as an examplar, if this is the model you go for\n",
    "\n",
    "# try:\n",
    "#     from xgboost import XGBClassifier\n",
    "# except (ModuleNotFoundError, ImportError):\n",
    "#     # install if necessary\n",
    "#     !pip install xgboost\n",
    "#     from xgboost import XGBClassifier"
   ]
  },
  {
   "cell_type": "markdown",
   "id": "8fc640b7-48d7-406d-8fa2-b50dd537ef32",
   "metadata": {},
   "source": [
    "## Define your working directory"
   ]
  },
  {
   "cell_type": "code",
   "execution_count": 5,
   "id": "772ad516-6670-49de-896e-5f9742006cd4",
   "metadata": {},
   "outputs": [],
   "source": [
    "# replace this with your own\n",
    "os.chdir(\"/Users/joaomatos/Documents/brown datathon\")"
   ]
  },
  {
   "cell_type": "markdown",
   "id": "b49c785a-48dd-4bb4-a769-7ac5f1307904",
   "metadata": {},
   "source": [
    "## Load train and test data"
   ]
  },
  {
   "cell_type": "code",
   "execution_count": 5,
   "id": "c48ecafe-c142-4808-8b3e-7094f9bf30a7",
   "metadata": {},
   "outputs": [],
   "source": [
    "data_train = pd.read_csv('data_split/wids_train.csv')\n",
    "data_test = pd.read_csv('data_split/wids_test.csv')"
   ]
  },
  {
   "cell_type": "code",
   "execution_count": 6,
   "id": "4ca25950-1ebe-45d0-aeb9-ec17658138be",
   "metadata": {},
   "outputs": [
    {
     "data": {
      "text/plain": [
       "(59370, 192)"
      ]
     },
     "execution_count": 6,
     "metadata": {},
     "output_type": "execute_result"
    }
   ],
   "source": [
    "data_train.shape"
   ]
  },
  {
   "cell_type": "code",
   "execution_count": 7,
   "id": "476a5432-497d-4398-92db-847f07227766",
   "metadata": {},
   "outputs": [
    {
     "data": {
      "text/plain": [
       "(29242, 192)"
      ]
     },
     "execution_count": 7,
     "metadata": {},
     "output_type": "execute_result"
    }
   ],
   "source": [
    "data_test.shape"
   ]
  },
  {
   "cell_type": "markdown",
   "id": "15a8f094-2be2-434a-b3da-aca785b7d658",
   "metadata": {},
   "source": [
    "## Define the outcome column"
   ]
  },
  {
   "cell_type": "code",
   "execution_count": null,
   "id": "3532a29d-8daf-40b5-bd90-acf2f40b2430",
   "metadata": {},
   "outputs": [],
   "source": [
    "outcome = ['hospital_death']"
   ]
  },
  {
   "cell_type": "code",
   "execution_count": null,
   "id": "c6a69e95-a4f8-43b6-b73f-00e525bbdc51",
   "metadata": {},
   "outputs": [],
   "source": [
    "y_train = data_train[outcome]\n",
    "y_test = data_test[outcome]"
   ]
  },
  {
   "cell_type": "markdown",
   "id": "257a44f1-2c4c-4460-863b-bbb053d7e106",
   "metadata": {},
   "source": [
    "## Select the features to use"
   ]
  },
  {
   "cell_type": "markdown",
   "id": "6661c075-5092-4aff-878e-4a6a6d431fa4",
   "metadata": {},
   "source": [
    "For now, we will use the original SpO2 and Lactate features as defined in the dataset. Please define which other features you, as a team, want to use!"
   ]
  },
  {
   "cell_type": "code",
   "execution_count": null,
   "id": "0a93b53d-6cb3-49bb-8352-42948d84a0a8",
   "metadata": {},
   "outputs": [],
   "source": [
    "features = [\n",
    "    'd1_spo2_min',\n",
    "    'd1_lactate_max',\n",
    "    'bmi',\n",
    "    'age',\n",
    "    'ethnicity',\n",
    "    'gender',\n",
    "    # ...\n",
    "]"
   ]
  },
  {
   "cell_type": "code",
   "execution_count": null,
   "id": "e3a2d79c-22b4-4a1d-846f-62cab6d91fc9",
   "metadata": {},
   "outputs": [],
   "source": [
    "X_train = data_train[features]\n",
    "X_test = data_test[features]"
   ]
  },
  {
   "cell_type": "markdown",
   "id": "a4978a2a-14c9-4ce1-bbf4-3d066f2f5479",
   "metadata": {},
   "source": [
    "## Train a model"
   ]
  },
  {
   "cell_type": "code",
   "execution_count": 12,
   "id": "8d282907-4f34-4533-aba0-b3bd8e819571",
   "metadata": {},
   "outputs": [],
   "source": [
    "# model = ... # decide as a team which model you want to go with!\n",
    "# model.fit(X_train, y_train)\n",
    "# model.predict(X_test)\n",
    "# model.predict_proba(X_test)\n"
   ]
  },
  {
   "cell_type": "markdown",
   "id": "ba1c2641-39d2-4e69-8410-10c67642f83f",
   "metadata": {},
   "source": [
    "## Evaluate your model across race and ethnicity"
   ]
  },
  {
   "cell_type": "code",
   "execution_count": null,
   "id": "d46459a3-c596-4848-b730-fc541b35ab9c",
   "metadata": {},
   "outputs": [],
   "source": [
    "# first split the y_test per racial and ethnic group\n",
    "# then for each group compute the evaluation metrics\n",
    "# and you can compute overall metrics as well!"
   ]
  }
 ],
 "metadata": {
  "kernelspec": {
   "display_name": "Python 3 (ipykernel)",
   "language": "python",
   "name": "python3"
  },
  "language_info": {
   "codemirror_mode": {
    "name": "ipython",
    "version": 3
   },
   "file_extension": ".py",
   "mimetype": "text/x-python",
   "name": "python",
   "nbconvert_exporter": "python",
   "pygments_lexer": "ipython3",
   "version": "3.12.2"
  }
 },
 "nbformat": 4,
 "nbformat_minor": 5
}
