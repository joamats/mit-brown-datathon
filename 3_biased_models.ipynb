{
 "cells": [
  {
   "cell_type": "markdown",
   "id": "f92ac2b6-2a7a-4292-b243-b10c1fb4cd93",
   "metadata": {},
   "source": [
    "# 3. Model with biased features to predict Mortality"
   ]
  },
  {
   "cell_type": "markdown",
   "id": "c1936df8-4057-457a-a38b-f3e05d6a1a7d",
   "metadata": {},
   "source": [
    "In this final notebook, we will create a  machine learning (ML) to predict in-hospital mortality, but now using the modified features, i.e, exaggerating the biases that we may see in real-world data. Copy any code that you may need from the previous notebooks. Please select the features according to the track that has been assigned to your team! In the end, please compare the results, and prepare your presentation!"
   ]
  },
  {
   "cell_type": "markdown",
   "id": "c07d2790-d39a-4310-94fb-c72c2106a27d",
   "metadata": {},
   "source": [
    "## Import libraries"
   ]
  },
  {
   "cell_type": "code",
   "execution_count": 1,
   "id": "2eb5fd68-764d-43ce-af91-d072c3e9505a",
   "metadata": {},
   "outputs": [],
   "source": [
    "import pandas as pd\n",
    "import numpy as np\n",
    "import matplotlib.pyplot as plt\n",
    "import os\n",
    "import warnings\n",
    "warnings.filterwarnings(\"ignore\")"
   ]
  },
  {
   "cell_type": "code",
   "execution_count": 2,
   "id": "e5abcce1-e089-43a0-984c-7931e54cb7da",
   "metadata": {},
   "outputs": [],
   "source": [
    "# some possibilities for modelling and evaluation, uncomment if necessary!\n",
    "\n",
    "# from sklearn.linear_model import LogisticRegression\n",
    "# from sklearn.ensemble import RandomForestClassifier\n",
    "# from sklearn.metrics import roc_auc_score, average_precision_score, accuracy_score, recall_score, precision_score, f1_score, balanced_accuracy_score"
   ]
  },
  {
   "cell_type": "code",
   "execution_count": 3,
   "id": "fecd4915-384e-434e-8e35-9db35b57f1a7",
   "metadata": {},
   "outputs": [],
   "source": [
    "# import XGBoost, as an examplar, if this is the model you go for\n",
    "\n",
    "# try:\n",
    "#     from xgboost import XGBClassifier\n",
    "# except (ModuleNotFoundError, ImportError):\n",
    "#     # install if necessary\n",
    "#     !pip install xgboost\n",
    "#     from xgboost import XGBClassifier"
   ]
  },
  {
   "cell_type": "markdown",
   "id": "3e405a8b-e0db-4e31-a6e5-40722b038ff2",
   "metadata": {},
   "source": [
    "## Define your working directory"
   ]
  },
  {
   "cell_type": "code",
   "execution_count": 4,
   "id": "4e61ff2d-20c7-42a6-8087-c0b66b5d2645",
   "metadata": {},
   "outputs": [],
   "source": [
    "# replace this with yours\n",
    "os.chdir(\"/Users/joaomatos/Documents/mit-brown-datathon\")"
   ]
  },
  {
   "cell_type": "markdown",
   "id": "45c8b0a2-0db0-4115-8b32-6b7996ed09c8",
   "metadata": {},
   "source": [
    "## Load train and test data"
   ]
  },
  {
   "cell_type": "code",
   "execution_count": 5,
   "id": "5e649057-500a-43aa-a28b-e4a4f88abd75",
   "metadata": {},
   "outputs": [],
   "source": [
    "data_train = pd.read_csv('data_split/wids_train.csv')\n",
    "data_test = pd.read_csv('data_split/wids_test.csv')"
   ]
  },
  {
   "cell_type": "code",
   "execution_count": 6,
   "id": "76b7dabd-8cbc-498f-809f-b84c44f065a4",
   "metadata": {},
   "outputs": [
    {
     "data": {
      "text/plain": [
       "(73370, 45)"
      ]
     },
     "execution_count": 6,
     "metadata": {},
     "output_type": "execute_result"
    }
   ],
   "source": [
    "data_train.shape"
   ]
  },
  {
   "cell_type": "code",
   "execution_count": 7,
   "id": "95e9d96f-b8d6-4ba5-8027-ec3561981f06",
   "metadata": {},
   "outputs": [
    {
     "data": {
      "text/plain": [
       "(18343, 45)"
      ]
     },
     "execution_count": 7,
     "metadata": {},
     "output_type": "execute_result"
    }
   ],
   "source": [
    "data_test.shape"
   ]
  },
  {
   "cell_type": "markdown",
   "id": "3d339d01-a606-44fa-86dc-5417d9975303",
   "metadata": {},
   "source": [
    "## Define the outcome column"
   ]
  },
  {
   "cell_type": "code",
   "execution_count": null,
   "id": "820bf322-3c7b-4f4f-b63c-dd3094733aed",
   "metadata": {},
   "outputs": [],
   "source": [
    "outcome = ['hospital_death']"
   ]
  },
  {
   "cell_type": "code",
   "execution_count": null,
   "id": "0d1b9576-7397-4613-ae7f-4596b28e3831",
   "metadata": {},
   "outputs": [],
   "source": [
    "y_train = data_train[outcome]\n",
    "y_test = data_test[outcome]"
   ]
  },
  {
   "cell_type": "markdown",
   "id": "73505139-ccb7-4d65-a305-ca330e6b1f20",
   "metadata": {},
   "source": [
    "## Select which features to use"
   ]
  },
  {
   "cell_type": "markdown",
   "id": "cade7aa3-6658-46c5-81ec-9b9d00b69326",
   "metadata": {},
   "source": [
    "Please comment the cells that do not apply to your track, and run the one that does apply"
   ]
  },
  {
   "cell_type": "markdown",
   "id": "1d11f81f-8b39-4dc3-b34e-19c9ce384f62",
   "metadata": {},
   "source": [
    "***To make this model's results comparable with the one from the previous notebook, please make sure to keep the same features, except for the SpO2 and/or Lactate***"
   ]
  },
  {
   "cell_type": "markdown",
   "id": "71e82ca2-b7c7-406f-bced-1fd6ff1724a7",
   "metadata": {},
   "source": [
    "### if you are Track 1 (modified SpO2 only)"
   ]
  },
  {
   "cell_type": "markdown",
   "id": "e1d5b78f-43cc-44f5-b455-ebf6757f52bb",
   "metadata": {},
   "source": [
    "We are selecting the minimum SpO2 because it is most representative of a patient's illness severity"
   ]
  },
  {
   "cell_type": "code",
   "execution_count": null,
   "id": "8bce27af-88ec-4a33-90f4-de81cbfd313e",
   "metadata": {},
   "outputs": [],
   "source": [
    "features = [\n",
    "    'd1_spo2_min_new',\n",
    "    'd1_lactate_max', #original\n",
    "    'bmi',\n",
    "    'age',\n",
    "    'ethnicity',\n",
    "    'gender',\n",
    "    # same features as before\n",
    "]"
   ]
  },
  {
   "cell_type": "markdown",
   "id": "41e6d307-9fd2-4f63-8e49-d56f1c1a1a3a",
   "metadata": {},
   "source": [
    "### if you are Track 2 (modified lactate only)"
   ]
  },
  {
   "cell_type": "markdown",
   "id": "4ae58db8-2691-43c1-b913-fbcbe8490cf5",
   "metadata": {},
   "source": [
    "We are selecting the maximum lactate because it is most representative of a patient's illness severity"
   ]
  },
  {
   "cell_type": "code",
   "execution_count": null,
   "id": "fbfeee10-a89c-4a03-b8bc-945cf9f0e975",
   "metadata": {},
   "outputs": [],
   "source": [
    "features = [\n",
    "    'd1_spo2_min', # original\n",
    "    'd1_lactate_max_new',\n",
    "    'bmi',\n",
    "    'age',\n",
    "    'ethnicity',\n",
    "    'gender',\n",
    "    # same features as before\n",
    "]"
   ]
  },
  {
   "cell_type": "markdown",
   "id": "095e0ff4-a25a-4b3e-92ad-f3a24cd67325",
   "metadata": {},
   "source": [
    "### if you are Track 3 (both modified SpO2 and modified lactate)"
   ]
  },
  {
   "cell_type": "code",
   "execution_count": null,
   "id": "a799fdeb-b5fe-4a99-b7a9-fdd14dca3c17",
   "metadata": {},
   "outputs": [],
   "source": [
    "features = [\n",
    "    'd1_spo2_min_new',\n",
    "    'd1_lactate_max_new',\n",
    "    'bmi',\n",
    "    'age',\n",
    "    'ethnicity',\n",
    "    'gender',\n",
    "    # same features as before\n",
    "]"
   ]
  },
  {
   "cell_type": "code",
   "execution_count": null,
   "id": "664237c1-0acc-438e-8060-767ce5ffdfe6",
   "metadata": {},
   "outputs": [],
   "source": [
    "X_train = data_train[features]\n",
    "X_test = data_test[features]"
   ]
  },
  {
   "cell_type": "markdown",
   "id": "cd5b56f1-9ef5-4330-8b77-be911bb57b2f",
   "metadata": {},
   "source": [
    "## Train a model"
   ]
  },
  {
   "cell_type": "code",
   "execution_count": 12,
   "id": "d4fdbf85-01f5-4994-8dfa-1335db399de0",
   "metadata": {},
   "outputs": [],
   "source": [
    "# model = ... # decide as a team which model you want to go with!\n",
    "# model.fit(X_train, y_train)\n",
    "# model.predict(X_test)\n",
    "# model.predict_proba(X_test)\n"
   ]
  },
  {
   "cell_type": "markdown",
   "id": "169e1c20-9f5f-43c9-a882-34238dc359fb",
   "metadata": {},
   "source": [
    "## Evaluate your model across race and ethnicity"
   ]
  },
  {
   "cell_type": "code",
   "execution_count": null,
   "id": "f6bbe527-3697-4f03-8ae9-728245a68044",
   "metadata": {},
   "outputs": [],
   "source": [
    "# first split the y_test per racial and ethnic group\n",
    "# then for each group compute the evaluation metrics\n",
    "# and you can compute overall metrics as well!"
   ]
  }
 ],
 "metadata": {
  "kernelspec": {
   "display_name": "Python 3 (ipykernel)",
   "language": "python",
   "name": "python3"
  },
  "language_info": {
   "codemirror_mode": {
    "name": "ipython",
    "version": 3
   },
   "file_extension": ".py",
   "mimetype": "text/x-python",
   "name": "python",
   "nbconvert_exporter": "python",
   "pygments_lexer": "ipython3",
   "version": "3.12.2"
  }
 },
 "nbformat": 4,
 "nbformat_minor": 5
}
