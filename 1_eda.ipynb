{
 "cells": [
  {
   "cell_type": "markdown",
   "id": "73f5888a-5001-4b73-9d51-66db31634b6b",
   "metadata": {},
   "source": [
    "# 1. Exploratory Data Analysis"
   ]
  },
  {
   "cell_type": "markdown",
   "id": "9c267ad0-c0f7-42c1-b79f-3ab350a7c3a0",
   "metadata": {},
   "source": [
    "We'll first use the [table one package](https://colab.research.google.com/github/tompollard/tableone/blob/master/tableone.ipynb) as an example of tabular data exploration, and then we encourage you to use Matplotlib (or any other data visualization package), by showing you an example of how to prompt ChatGPT to give us Python code to produce the plots we want!"
   ]
  },
  {
   "cell_type": "markdown",
   "id": "123ebd27-3647-4f22-b74d-1feed3d763b9",
   "metadata": {},
   "source": [
    "## Import libraries"
   ]
  },
  {
   "cell_type": "code",
   "execution_count": 8,
   "id": "e8a4336c-9e91-4634-b027-2f76b7efde8f",
   "metadata": {},
   "outputs": [],
   "source": [
    "import pandas as pd\n",
    "import numpy as np\n",
    "import matplotlib.pyplot as plt\n",
    "import os\n",
    "import warnings\n",
    "warnings.filterwarnings(\"ignore\")"
   ]
  },
  {
   "cell_type": "code",
   "execution_count": 9,
   "id": "10f459ec-f3a1-4083-9a81-0ed8ea18dc49",
   "metadata": {},
   "outputs": [],
   "source": [
    "# Import tableone\n",
    "try:\n",
    "    from tableone import TableOne\n",
    "except (ModuleNotFoundError, ImportError):\n",
    "    # install on Colab\n",
    "    !pip install tableone\n",
    "    from tableone import TableOne"
   ]
  },
  {
   "cell_type": "markdown",
   "id": "09d8b01b-2aed-4fa4-867f-c5cf6d451274",
   "metadata": {},
   "source": [
    "## Define your working directory"
   ]
  },
  {
   "cell_type": "code",
   "execution_count": 5,
   "id": "2c10d6b2-8243-4236-8d62-623ab35bba15",
   "metadata": {},
   "outputs": [],
   "source": [
    "# replace this with yours\n",
    "os.chdir(\"/Users/joaomatos/Documents/brown datathon\")"
   ]
  },
  {
   "cell_type": "markdown",
   "id": "c58e3bb0-51d7-4fee-908c-0b3eb48882a7",
   "metadata": {},
   "source": [
    "## Load train data"
   ]
  },
  {
   "cell_type": "markdown",
   "id": "686a77f1-0bae-48c4-9a9f-23780e8713b5",
   "metadata": {},
   "source": [
    "let's look at the train data *only* to simulate a real setup, where we don't get to look at the test set"
   ]
  },
  {
   "cell_type": "code",
   "execution_count": 6,
   "id": "3572447a-145f-495f-9cf7-4f657d5915cc",
   "metadata": {},
   "outputs": [],
   "source": [
    "data = pd.read_csv('data_split/wids_train.csv')"
   ]
  },
  {
   "cell_type": "code",
   "execution_count": 18,
   "id": "04e1c853-65eb-496b-aeb4-6af90c853c9e",
   "metadata": {},
   "outputs": [
    {
     "data": {
      "text/html": [
       "<div>\n",
       "<style scoped>\n",
       "    .dataframe tbody tr th:only-of-type {\n",
       "        vertical-align: middle;\n",
       "    }\n",
       "\n",
       "    .dataframe tbody tr th {\n",
       "        vertical-align: top;\n",
       "    }\n",
       "\n",
       "    .dataframe thead th {\n",
       "        text-align: right;\n",
       "    }\n",
       "</style>\n",
       "<table border=\"1\" class=\"dataframe\">\n",
       "  <thead>\n",
       "    <tr style=\"text-align: right;\">\n",
       "      <th></th>\n",
       "      <th>Unnamed: 0</th>\n",
       "      <th>encounter_id</th>\n",
       "      <th>patient_id</th>\n",
       "      <th>hospital_id</th>\n",
       "      <th>hospital_death</th>\n",
       "      <th>age</th>\n",
       "      <th>bmi</th>\n",
       "      <th>elective_surgery</th>\n",
       "      <th>ethnicity</th>\n",
       "      <th>gender</th>\n",
       "      <th>...</th>\n",
       "      <th>leukemia</th>\n",
       "      <th>lymphoma</th>\n",
       "      <th>solid_tumor_with_metastasis</th>\n",
       "      <th>apache_3j_bodysystem</th>\n",
       "      <th>apache_2_bodysystem</th>\n",
       "      <th>d1_spo2_new</th>\n",
       "      <th>d1_spo2_min_new</th>\n",
       "      <th>d1_spo2_max_new</th>\n",
       "      <th>d1_lactate_min_new</th>\n",
       "      <th>d1_lactate_max_new</th>\n",
       "    </tr>\n",
       "  </thead>\n",
       "  <tbody>\n",
       "    <tr>\n",
       "      <th>0</th>\n",
       "      <td>2859</td>\n",
       "      <td>40775</td>\n",
       "      <td>123543</td>\n",
       "      <td>31</td>\n",
       "      <td>0</td>\n",
       "      <td>69.0</td>\n",
       "      <td>33.167199</td>\n",
       "      <td>0</td>\n",
       "      <td>Caucasian</td>\n",
       "      <td>F</td>\n",
       "      <td>...</td>\n",
       "      <td>0.0</td>\n",
       "      <td>0.0</td>\n",
       "      <td>0.0</td>\n",
       "      <td>Respiratory</td>\n",
       "      <td>Respiratory</td>\n",
       "      <td>90.0</td>\n",
       "      <td>90.0</td>\n",
       "      <td>100.0</td>\n",
       "      <td>NaN</td>\n",
       "      <td>NaN</td>\n",
       "    </tr>\n",
       "    <tr>\n",
       "      <th>1</th>\n",
       "      <td>20193</td>\n",
       "      <td>80965</td>\n",
       "      <td>33178</td>\n",
       "      <td>79</td>\n",
       "      <td>0</td>\n",
       "      <td>53.0</td>\n",
       "      <td>31.250000</td>\n",
       "      <td>1</td>\n",
       "      <td>Caucasian</td>\n",
       "      <td>F</td>\n",
       "      <td>...</td>\n",
       "      <td>0.0</td>\n",
       "      <td>0.0</td>\n",
       "      <td>0.0</td>\n",
       "      <td>NaN</td>\n",
       "      <td>NaN</td>\n",
       "      <td>94.0</td>\n",
       "      <td>94.0</td>\n",
       "      <td>100.0</td>\n",
       "      <td>NaN</td>\n",
       "      <td>NaN</td>\n",
       "    </tr>\n",
       "    <tr>\n",
       "      <th>2</th>\n",
       "      <td>861</td>\n",
       "      <td>68866</td>\n",
       "      <td>105759</td>\n",
       "      <td>46</td>\n",
       "      <td>0</td>\n",
       "      <td>63.0</td>\n",
       "      <td>NaN</td>\n",
       "      <td>0</td>\n",
       "      <td>Caucasian</td>\n",
       "      <td>F</td>\n",
       "      <td>...</td>\n",
       "      <td>0.0</td>\n",
       "      <td>0.0</td>\n",
       "      <td>0.0</td>\n",
       "      <td>Sepsis</td>\n",
       "      <td>Cardiovascular</td>\n",
       "      <td>92.0</td>\n",
       "      <td>92.0</td>\n",
       "      <td>100.0</td>\n",
       "      <td>0.8</td>\n",
       "      <td>1.1</td>\n",
       "    </tr>\n",
       "    <tr>\n",
       "      <th>3</th>\n",
       "      <td>39811</td>\n",
       "      <td>107720</td>\n",
       "      <td>49781</td>\n",
       "      <td>54</td>\n",
       "      <td>0</td>\n",
       "      <td>58.0</td>\n",
       "      <td>41.321401</td>\n",
       "      <td>1</td>\n",
       "      <td>African American</td>\n",
       "      <td>F</td>\n",
       "      <td>...</td>\n",
       "      <td>0.0</td>\n",
       "      <td>0.0</td>\n",
       "      <td>0.0</td>\n",
       "      <td>Cardiovascular</td>\n",
       "      <td>Cardiovascular</td>\n",
       "      <td>98.0</td>\n",
       "      <td>98.0</td>\n",
       "      <td>100.0</td>\n",
       "      <td>NaN</td>\n",
       "      <td>NaN</td>\n",
       "    </tr>\n",
       "    <tr>\n",
       "      <th>4</th>\n",
       "      <td>87398</td>\n",
       "      <td>32554</td>\n",
       "      <td>129865</td>\n",
       "      <td>188</td>\n",
       "      <td>0</td>\n",
       "      <td>66.0</td>\n",
       "      <td>42.513340</td>\n",
       "      <td>0</td>\n",
       "      <td>Caucasian</td>\n",
       "      <td>F</td>\n",
       "      <td>...</td>\n",
       "      <td>0.0</td>\n",
       "      <td>0.0</td>\n",
       "      <td>0.0</td>\n",
       "      <td>Cardiovascular</td>\n",
       "      <td>Cardiovascular</td>\n",
       "      <td>92.0</td>\n",
       "      <td>92.0</td>\n",
       "      <td>100.0</td>\n",
       "      <td>NaN</td>\n",
       "      <td>NaN</td>\n",
       "    </tr>\n",
       "  </tbody>\n",
       "</table>\n",
       "<p>5 rows × 192 columns</p>\n",
       "</div>"
      ],
      "text/plain": [
       "   Unnamed: 0  encounter_id  patient_id  hospital_id  hospital_death   age  \\\n",
       "0        2859         40775      123543           31               0  69.0   \n",
       "1       20193         80965       33178           79               0  53.0   \n",
       "2         861         68866      105759           46               0  63.0   \n",
       "3       39811        107720       49781           54               0  58.0   \n",
       "4       87398         32554      129865          188               0  66.0   \n",
       "\n",
       "         bmi  elective_surgery         ethnicity gender  ...  leukemia  \\\n",
       "0  33.167199                 0         Caucasian      F  ...       0.0   \n",
       "1  31.250000                 1         Caucasian      F  ...       0.0   \n",
       "2        NaN                 0         Caucasian      F  ...       0.0   \n",
       "3  41.321401                 1  African American      F  ...       0.0   \n",
       "4  42.513340                 0         Caucasian      F  ...       0.0   \n",
       "\n",
       "  lymphoma solid_tumor_with_metastasis  apache_3j_bodysystem  \\\n",
       "0      0.0                         0.0           Respiratory   \n",
       "1      0.0                         0.0                   NaN   \n",
       "2      0.0                         0.0                Sepsis   \n",
       "3      0.0                         0.0        Cardiovascular   \n",
       "4      0.0                         0.0        Cardiovascular   \n",
       "\n",
       "  apache_2_bodysystem d1_spo2_new  d1_spo2_min_new  d1_spo2_max_new  \\\n",
       "0         Respiratory        90.0             90.0            100.0   \n",
       "1                 NaN        94.0             94.0            100.0   \n",
       "2      Cardiovascular        92.0             92.0            100.0   \n",
       "3      Cardiovascular        98.0             98.0            100.0   \n",
       "4      Cardiovascular        92.0             92.0            100.0   \n",
       "\n",
       "   d1_lactate_min_new  d1_lactate_max_new  \n",
       "0                 NaN                 NaN  \n",
       "1                 NaN                 NaN  \n",
       "2                 0.8                 1.1  \n",
       "3                 NaN                 NaN  \n",
       "4                 NaN                 NaN  \n",
       "\n",
       "[5 rows x 192 columns]"
      ]
     },
     "execution_count": 18,
     "metadata": {},
     "output_type": "execute_result"
    }
   ],
   "source": [
    "data.head()"
   ]
  },
  {
   "cell_type": "code",
   "execution_count": 15,
   "id": "cbebfb9c-0906-4d63-b0c5-598d1d1ac92d",
   "metadata": {},
   "outputs": [],
   "source": [
    "# use this line below to see all the columns as a list of strings\n",
    "# data.columns.tolist()"
   ]
  },
  {
   "cell_type": "code",
   "execution_count": null,
   "id": "c72e19d2-670e-43ac-aa06-b17a89cd7408",
   "metadata": {},
   "outputs": [],
   "source": [
    "# or alternatively plot them all\n",
    "# with pd.option_context('display.max_columns', None):\n",
    "#     display(data.head())"
   ]
  },
  {
   "cell_type": "markdown",
   "id": "71f479f0-6f42-4a72-9556-1f269880e3d2",
   "metadata": {},
   "source": [
    "## Build a basic Table 1"
   ]
  },
  {
   "cell_type": "markdown",
   "id": "bc7f7e95-5d74-4d08-8a54-b677784e60cf",
   "metadata": {},
   "source": [
    "modify these lists with the variables you're interested in!"
   ]
  },
  {
   "cell_type": "code",
   "execution_count": 37,
   "id": "04cbc4b8-8bae-4fa6-bf91-9e5e0a3ef4a8",
   "metadata": {},
   "outputs": [],
   "source": [
    "columns = ['age', 'bmi', 'ethnicity', 'gender', 'hospital_death']\n",
    "\n",
    "categorical = ['gender', 'ethnicity']\n",
    "\n",
    "groupby = ['hospital_death']\n",
    "\n",
    "nonnormal = ['bmi']\n",
    "\n",
    "# this renames the variables\n",
    "labels = {\n",
    "    'hospital_death': \"Mortality\",\n",
    "    'age': \"Age\",\n",
    "    'ethnicity': \"Race and Ethnicity\",\n",
    "    'bmi': \"BMI\",\n",
    "    'gender': \"Sex\",\n",
    "}\n",
    "\n",
    "# this re-orders categorical variables\n",
    "order = {\n",
    "    'gender': [\"F\",\"M\"]\n",
    "}\n",
    "\n",
    "# and then we can limit to a certain number of classes\n",
    "limit = {\n",
    "    'gender': 1\n",
    "}\n"
   ]
  },
  {
   "cell_type": "code",
   "execution_count": 38,
   "id": "cc919a98-009c-4613-a39b-65cf12e5c327",
   "metadata": {},
   "outputs": [],
   "source": [
    "table1 = TableOne(\n",
    "    data,\n",
    "    columns=columns,\n",
    "    categorical=categorical,\n",
    "    groupby=groupby,\n",
    "    nonnormal=nonnormal,\n",
    "    rename=labels, \n",
    "    limit=limit,\n",
    "    order=order,\n",
    "    overall=True,\n",
    "    missing=True,\n",
    "    pval=True,\n",
    "    decimals=2,\n",
    ")"
   ]
  },
  {
   "cell_type": "code",
   "execution_count": 39,
   "id": "eb9f1381-a5cf-46be-a5c2-a8bb9eb617b1",
   "metadata": {},
   "outputs": [
    {
     "data": {
      "text/html": [
       "<div>\n",
       "<style scoped>\n",
       "    .dataframe tbody tr th:only-of-type {\n",
       "        vertical-align: middle;\n",
       "    }\n",
       "\n",
       "    .dataframe tbody tr th {\n",
       "        vertical-align: top;\n",
       "    }\n",
       "\n",
       "    .dataframe thead tr th {\n",
       "        text-align: left;\n",
       "    }\n",
       "</style>\n",
       "<table border=\"1\" class=\"dataframe\">\n",
       "  <thead>\n",
       "    <tr>\n",
       "      <th></th>\n",
       "      <th></th>\n",
       "      <th colspan=\"5\" halign=\"left\">Grouped by Mortality</th>\n",
       "    </tr>\n",
       "    <tr>\n",
       "      <th></th>\n",
       "      <th></th>\n",
       "      <th>Missing</th>\n",
       "      <th>Overall</th>\n",
       "      <th>0</th>\n",
       "      <th>1</th>\n",
       "      <th>P-Value</th>\n",
       "    </tr>\n",
       "  </thead>\n",
       "  <tbody>\n",
       "    <tr>\n",
       "      <th>n</th>\n",
       "      <th></th>\n",
       "      <td></td>\n",
       "      <td>59370</td>\n",
       "      <td>54886</td>\n",
       "      <td>4484</td>\n",
       "      <td></td>\n",
       "    </tr>\n",
       "    <tr>\n",
       "      <th>Age, mean (SD)</th>\n",
       "      <th></th>\n",
       "      <td>2697</td>\n",
       "      <td>62.13 (16.85)</td>\n",
       "      <td>61.64 (16.92)</td>\n",
       "      <td>68.30 (14.55)</td>\n",
       "      <td>&lt;0.001</td>\n",
       "    </tr>\n",
       "    <tr>\n",
       "      <th>BMI, median [Q1,Q3]</th>\n",
       "      <th></th>\n",
       "      <td>2180</td>\n",
       "      <td>27.68 [23.66,32.93]</td>\n",
       "      <td>27.77 [23.74,32.99]</td>\n",
       "      <td>26.65 [22.72,32.07]</td>\n",
       "      <td>&lt;0.001</td>\n",
       "    </tr>\n",
       "    <tr>\n",
       "      <th rowspan=\"6\" valign=\"top\">Race and Ethnicity, n (%)</th>\n",
       "      <th>African American</th>\n",
       "      <td>931</td>\n",
       "      <td>6065 (10.38)</td>\n",
       "      <td>5674 (10.50)</td>\n",
       "      <td>391 (8.85)</td>\n",
       "      <td>0.002</td>\n",
       "    </tr>\n",
       "    <tr>\n",
       "      <th>Asian</th>\n",
       "      <td></td>\n",
       "      <td>740 (1.27)</td>\n",
       "      <td>686 (1.27)</td>\n",
       "      <td>54 (1.22)</td>\n",
       "      <td></td>\n",
       "    </tr>\n",
       "    <tr>\n",
       "      <th>Caucasian</th>\n",
       "      <td></td>\n",
       "      <td>45808 (78.39)</td>\n",
       "      <td>42314 (78.33)</td>\n",
       "      <td>3494 (79.07)</td>\n",
       "      <td></td>\n",
       "    </tr>\n",
       "    <tr>\n",
       "      <th>Hispanic</th>\n",
       "      <td></td>\n",
       "      <td>2490 (4.26)</td>\n",
       "      <td>2270 (4.20)</td>\n",
       "      <td>220 (4.98)</td>\n",
       "      <td></td>\n",
       "    </tr>\n",
       "    <tr>\n",
       "      <th>Native American</th>\n",
       "      <td></td>\n",
       "      <td>527 (0.90)</td>\n",
       "      <td>478 (0.88)</td>\n",
       "      <td>49 (1.11)</td>\n",
       "      <td></td>\n",
       "    </tr>\n",
       "    <tr>\n",
       "      <th>Other/Unknown</th>\n",
       "      <td></td>\n",
       "      <td>2809 (4.81)</td>\n",
       "      <td>2598 (4.81)</td>\n",
       "      <td>211 (4.77)</td>\n",
       "      <td></td>\n",
       "    </tr>\n",
       "    <tr>\n",
       "      <th>Sex, n (%)</th>\n",
       "      <th>F</th>\n",
       "      <td>14</td>\n",
       "      <td>27170 (45.77)</td>\n",
       "      <td>25120 (45.78)</td>\n",
       "      <td>2050 (45.76)</td>\n",
       "      <td>0.995</td>\n",
       "    </tr>\n",
       "  </tbody>\n",
       "</table>\n",
       "</div><br />"
      ],
      "text/plain": [
       "                                           Grouped by Mortality                                                                       \n",
       "                                                        Missing              Overall                    0                    1 P-Value\n",
       "n                                                                              59370                54886                 4484        \n",
       "Age, mean (SD)                                             2697        62.13 (16.85)        61.64 (16.92)        68.30 (14.55)  <0.001\n",
       "BMI, median [Q1,Q3]                                        2180  27.68 [23.66,32.93]  27.77 [23.74,32.99]  26.65 [22.72,32.07]  <0.001\n",
       "Race and Ethnicity, n (%) African American                  931         6065 (10.38)         5674 (10.50)           391 (8.85)   0.002\n",
       "                          Asian                                           740 (1.27)           686 (1.27)            54 (1.22)        \n",
       "                          Caucasian                                    45808 (78.39)        42314 (78.33)         3494 (79.07)        \n",
       "                          Hispanic                                       2490 (4.26)          2270 (4.20)           220 (4.98)        \n",
       "                          Native American                                 527 (0.90)           478 (0.88)            49 (1.11)        \n",
       "                          Other/Unknown                                  2809 (4.81)          2598 (4.81)           211 (4.77)        \n",
       "Sex, n (%)                F                                  14        27170 (45.77)        25120 (45.78)         2050 (45.76)   0.995"
      ]
     },
     "metadata": {},
     "output_type": "display_data"
    }
   ],
   "source": [
    "display(table1)"
   ]
  },
  {
   "cell_type": "code",
   "execution_count": null,
   "id": "e550deed-7b68-4f04-802a-e517648e9b68",
   "metadata": {},
   "outputs": [],
   "source": [
    "# your own table one, with more variables!"
   ]
  },
  {
   "cell_type": "code",
   "execution_count": null,
   "id": "83df7087-621c-41bc-9420-76c7bcd74e3e",
   "metadata": {},
   "outputs": [],
   "source": []
  },
  {
   "cell_type": "markdown",
   "id": "2cfbcb31-d9ee-44f7-bca8-befc85b4113a",
   "metadata": {},
   "source": [
    "## Plot some visualizations!"
   ]
  },
  {
   "cell_type": "markdown",
   "id": "353ee530-8a17-4a49-bf60-c12aaa7bbb1c",
   "metadata": {},
   "source": [
    "[ChatGPT](https://chatgpt.com/) can be very helpful here ;)\n",
    "\n",
    "This was my prompt:\n",
    "\n",
    "```\n",
    "I have a dataframe in Python called \"data\".\n",
    "I want a bar plot on mortality, defined as 'hospital_death', per ethnic group, defined in a column called 'ethnicity'.\n",
    "Please provide me matplotlib code.\n",
    "\n",
    "```\n"
   ]
  },
  {
   "cell_type": "markdown",
   "id": "e3a37b9b-b4d1-44d9-9ff0-1520de92d867",
   "metadata": {},
   "source": [
    "And this was GPT-3.5's output -- will it work? :)"
   ]
  },
  {
   "cell_type": "code",
   "execution_count": 40,
   "id": "08437637-c32a-4201-aad9-c3e48f289cce",
   "metadata": {},
   "outputs": [
    {
     "data": {
      "image/png": "[encoded data removed]",
      "text/plain": [
       "<Figure size 1000x600 with 1 Axes>"
      ]
     },
     "metadata": {},
     "output_type": "display_data"
    }
   ],
   "source": [
    "# (commenting these because we've already done this above)\n",
    "# import pandas as pd\n",
    "# import matplotlib.pyplot as plt\n",
    "\n",
    "# Assuming 'data' is your DataFrame\n",
    "# If not already loaded, you can load your data like this:\n",
    "# data = pd.read_csv('your_data.csv')\n",
    "\n",
    "# Group by 'ethnicity' and calculate the sum of 'hospital_death' for each group\n",
    "mortality_per_ethnicity = data.groupby('ethnicity')['hospital_death'].sum()\n",
    "\n",
    "# Create the bar plot\n",
    "plt.figure(figsize=(10, 6))\n",
    "mortality_per_ethnicity.plot(kind='bar', color='skyblue')\n",
    "\n",
    "# Add labels and title\n",
    "plt.xlabel('Ethnicity')\n",
    "plt.ylabel('Number of Hospital Deaths')\n",
    "plt.title('Mortality per Ethnic Group')\n",
    "\n",
    "# Display the plot\n",
    "plt.xticks(rotation=45)\n",
    "plt.show()\n"
   ]
  },
  {
   "cell_type": "markdown",
   "id": "519e4bee-bcc3-4cb7-9bf3-b4136a856783",
   "metadata": {},
   "source": [
    "It did work!! But now I realize that this should be normalized by the number of patients per ethnic group, otherwise we cannot extract much from the plot.\n",
    "\n",
    "So, here's my new prompt:\n",
    "\n",
    "```\n",
    "can we please make this normalized by the number of patients per ethnic group, i.e, take the mean instead of the sum?\n",
    "\n",
    "```\n",
    "\n",
    "Will it work? This was the new output:"
   ]
  },
  {
   "cell_type": "code",
   "execution_count": 41,
   "id": "0b046bac-c8dc-479e-9612-c797370a8163",
   "metadata": {},
   "outputs": [
    {
     "data": {
      "image/png": "[encoded data removed]",
      "text/plain": [
       "<Figure size 1000x600 with 1 Axes>"
      ]
     },
     "metadata": {},
     "output_type": "display_data"
    }
   ],
   "source": [
    "mortality_per_ethnicity = data.groupby('ethnicity')['hospital_death'].mean()\n",
    "\n",
    "# Create the bar plot\n",
    "plt.figure(figsize=(10, 6))\n",
    "mortality_per_ethnicity.plot(kind='bar', color='skyblue')\n",
    "\n",
    "# Add labels and title\n",
    "plt.xlabel('Ethnicity')\n",
    "plt.ylabel('Mean Hospital Deaths')\n",
    "plt.title('Mean Mortality per Ethnic Group')\n",
    "\n",
    "# Display the plot\n",
    "plt.xticks(rotation=45)\n",
    "plt.show()"
   ]
  },
  {
   "cell_type": "markdown",
   "id": "cf90ad76-316f-487b-b150-f36dee3c173f",
   "metadata": {},
   "source": [
    "This makes a whole lot more sense!! Explore this with other plots you may be interested ;)"
   ]
  },
  {
   "cell_type": "code",
   "execution_count": null,
   "id": "90390a6d-c9e7-4686-9a54-e086d9bf883f",
   "metadata": {},
   "outputs": [],
   "source": [
    "# your other plots!!!"
   ]
  }
 ],
 "metadata": {
  "kernelspec": {
   "display_name": "Python 3 (ipykernel)",
   "language": "python",
   "name": "python3"
  },
  "language_info": {
   "codemirror_mode": {
    "name": "ipython",
    "version": 3
   },
   "file_extension": ".py",
   "mimetype": "text/x-python",
   "name": "python",
   "nbconvert_exporter": "python",
   "pygments_lexer": "ipython3",
   "version": "3.12.2"
  }
 },
 "nbformat": 4,
 "nbformat_minor": 5
}
