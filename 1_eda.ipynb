{
 "cells": [
  {
   "cell_type": "markdown",
   "id": "73f5888a-5001-4b73-9d51-66db31634b6b",
   "metadata": {},
   "source": [
    "# 1. Exploratory Data Analysis"
   ]
  },
  {
   "cell_type": "markdown",
   "id": "9c267ad0-c0f7-42c1-b79f-3ab350a7c3a0",
   "metadata": {},
   "source": [
    "We'll first use the [table one package](https://colab.research.google.com/github/tompollard/tableone/blob/master/tableone.ipynb) as an example of tabular data exploration, and then we encourage you to use Matplotlib (or any other data visualization package), by showing you an example of how to prompt ChatGPT to give us Python code to produce the plots we want!"
   ]
  },
  {
   "cell_type": "markdown",
   "id": "123ebd27-3647-4f22-b74d-1feed3d763b9",
   "metadata": {},
   "source": [
    "## Import libraries"
   ]
  },
  {
   "cell_type": "code",
   "execution_count": 1,
   "id": "e8a4336c-9e91-4634-b027-2f76b7efde8f",
   "metadata": {},
   "outputs": [],
   "source": [
    "import pandas as pd\n",
    "import numpy as np\n",
    "import matplotlib.pyplot as plt\n",
    "import os\n",
    "import warnings\n",
    "warnings.filterwarnings(\"ignore\")"
   ]
  },
  {
   "cell_type": "code",
   "execution_count": 2,
   "id": "10f459ec-f3a1-4083-9a81-0ed8ea18dc49",
   "metadata": {},
   "outputs": [],
   "source": [
    "# Import tableone\n",
    "try:\n",
    "    from tableone import TableOne\n",
    "except (ModuleNotFoundError, ImportError):\n",
    "    # install on Colab\n",
    "    !pip install tableone\n",
    "    from tableone import TableOne"
   ]
  },
  {
   "cell_type": "markdown",
   "id": "09d8b01b-2aed-4fa4-867f-c5cf6d451274",
   "metadata": {},
   "source": [
    "## Define your working directory"
   ]
  },
  {
   "cell_type": "code",
   "execution_count": 3,
   "id": "2c10d6b2-8243-4236-8d62-623ab35bba15",
   "metadata": {},
   "outputs": [],
   "source": [
    "# replace this with yours\n",
    "os.chdir(\"/Users/joaomatos/Documents/mit-brown-datathon\")"
   ]
  },
  {
   "cell_type": "markdown",
   "id": "c58e3bb0-51d7-4fee-908c-0b3eb48882a7",
   "metadata": {},
   "source": [
    "## Load train data"
   ]
  },
  {
   "cell_type": "markdown",
   "id": "686a77f1-0bae-48c4-9a9f-23780e8713b5",
   "metadata": {},
   "source": [
    "let's look at the train data *only* to simulate a real setup, where we don't get to look at the test set"
   ]
  },
  {
   "cell_type": "code",
   "execution_count": 4,
   "id": "3572447a-145f-495f-9cf7-4f657d5915cc",
   "metadata": {},
   "outputs": [],
   "source": [
    "data = pd.read_csv('data_split/wids_train.csv')"
   ]
  },
  {
   "cell_type": "code",
   "execution_count": 5,
   "id": "04e1c853-65eb-496b-aeb4-6af90c853c9e",
   "metadata": {},
   "outputs": [
    {
     "data": {
      "text/html": [
       "<div>\n",
       "<style scoped>\n",
       "    .dataframe tbody tr th:only-of-type {\n",
       "        vertical-align: middle;\n",
       "    }\n",
       "\n",
       "    .dataframe tbody tr th {\n",
       "        vertical-align: top;\n",
       "    }\n",
       "\n",
       "    .dataframe thead th {\n",
       "        text-align: right;\n",
       "    }\n",
       "</style>\n",
       "<table border=\"1\" class=\"dataframe\">\n",
       "  <thead>\n",
       "    <tr style=\"text-align: right;\">\n",
       "      <th></th>\n",
       "      <th>Unnamed: 0</th>\n",
       "      <th>encounter_id</th>\n",
       "      <th>patient_id</th>\n",
       "      <th>hospital_id</th>\n",
       "      <th>age</th>\n",
       "      <th>ethnicity</th>\n",
       "      <th>gender</th>\n",
       "      <th>bmi</th>\n",
       "      <th>icu_admit_source</th>\n",
       "      <th>icu_type</th>\n",
       "      <th>...</th>\n",
       "      <th>d1_potassium_max</th>\n",
       "      <th>d1_potassium_min</th>\n",
       "      <th>d1_sodium_max</th>\n",
       "      <th>d1_sodium_min</th>\n",
       "      <th>d1_wbc_max</th>\n",
       "      <th>hospital_death</th>\n",
       "      <th>d1_spo2_min_new</th>\n",
       "      <th>d1_lactate_max_new</th>\n",
       "      <th>d1_spo2_min</th>\n",
       "      <th>d1_lactate_max</th>\n",
       "    </tr>\n",
       "  </thead>\n",
       "  <tbody>\n",
       "    <tr>\n",
       "      <th>0</th>\n",
       "      <td>4609</td>\n",
       "      <td>59954</td>\n",
       "      <td>90449</td>\n",
       "      <td>118</td>\n",
       "      <td>86.0</td>\n",
       "      <td>Caucasian</td>\n",
       "      <td>M</td>\n",
       "      <td>28.168975</td>\n",
       "      <td>Accident &amp; Emergency</td>\n",
       "      <td>Neuro ICU</td>\n",
       "      <td>...</td>\n",
       "      <td>4.1</td>\n",
       "      <td>4.10</td>\n",
       "      <td>NaN</td>\n",
       "      <td>NaN</td>\n",
       "      <td>NaN</td>\n",
       "      <td>0</td>\n",
       "      <td>97.0</td>\n",
       "      <td>NaN</td>\n",
       "      <td>97.0</td>\n",
       "      <td>NaN</td>\n",
       "    </tr>\n",
       "    <tr>\n",
       "      <th>1</th>\n",
       "      <td>75674</td>\n",
       "      <td>63518</td>\n",
       "      <td>19384</td>\n",
       "      <td>185</td>\n",
       "      <td>72.0</td>\n",
       "      <td>Caucasian</td>\n",
       "      <td>M</td>\n",
       "      <td>36.635088</td>\n",
       "      <td>Accident &amp; Emergency</td>\n",
       "      <td>Med-Surg ICU</td>\n",
       "      <td>...</td>\n",
       "      <td>4.6</td>\n",
       "      <td>4.00</td>\n",
       "      <td>141.0</td>\n",
       "      <td>125.0</td>\n",
       "      <td>16.7</td>\n",
       "      <td>1</td>\n",
       "      <td>99.0</td>\n",
       "      <td>13.70</td>\n",
       "      <td>99.0</td>\n",
       "      <td>13.70</td>\n",
       "    </tr>\n",
       "    <tr>\n",
       "      <th>2</th>\n",
       "      <td>84022</td>\n",
       "      <td>34401</td>\n",
       "      <td>20558</td>\n",
       "      <td>188</td>\n",
       "      <td>36.0</td>\n",
       "      <td>African American</td>\n",
       "      <td>M</td>\n",
       "      <td>27.459684</td>\n",
       "      <td>Accident &amp; Emergency</td>\n",
       "      <td>MICU</td>\n",
       "      <td>...</td>\n",
       "      <td>NaN</td>\n",
       "      <td>NaN</td>\n",
       "      <td>NaN</td>\n",
       "      <td>NaN</td>\n",
       "      <td>NaN</td>\n",
       "      <td>0</td>\n",
       "      <td>100.0</td>\n",
       "      <td>NaN</td>\n",
       "      <td>93.0</td>\n",
       "      <td>NaN</td>\n",
       "    </tr>\n",
       "    <tr>\n",
       "      <th>3</th>\n",
       "      <td>38035</td>\n",
       "      <td>71581</td>\n",
       "      <td>112066</td>\n",
       "      <td>62</td>\n",
       "      <td>60.0</td>\n",
       "      <td>Caucasian</td>\n",
       "      <td>M</td>\n",
       "      <td>21.977351</td>\n",
       "      <td>Accident &amp; Emergency</td>\n",
       "      <td>MICU</td>\n",
       "      <td>...</td>\n",
       "      <td>5.5</td>\n",
       "      <td>4.06</td>\n",
       "      <td>143.0</td>\n",
       "      <td>136.4</td>\n",
       "      <td>13.8</td>\n",
       "      <td>0</td>\n",
       "      <td>90.0</td>\n",
       "      <td>3.15</td>\n",
       "      <td>90.0</td>\n",
       "      <td>3.15</td>\n",
       "    </tr>\n",
       "    <tr>\n",
       "      <th>4</th>\n",
       "      <td>24371</td>\n",
       "      <td>29019</td>\n",
       "      <td>129440</td>\n",
       "      <td>161</td>\n",
       "      <td>27.0</td>\n",
       "      <td>Caucasian</td>\n",
       "      <td>F</td>\n",
       "      <td>19.960244</td>\n",
       "      <td>Accident &amp; Emergency</td>\n",
       "      <td>Med-Surg ICU</td>\n",
       "      <td>...</td>\n",
       "      <td>4.1</td>\n",
       "      <td>2.90</td>\n",
       "      <td>139.0</td>\n",
       "      <td>134.0</td>\n",
       "      <td>45.0</td>\n",
       "      <td>0</td>\n",
       "      <td>94.0</td>\n",
       "      <td>NaN</td>\n",
       "      <td>94.0</td>\n",
       "      <td>NaN</td>\n",
       "    </tr>\n",
       "  </tbody>\n",
       "</table>\n",
       "<p>5 rows × 45 columns</p>\n",
       "</div>"
      ],
      "text/plain": [
       "   Unnamed: 0  encounter_id  patient_id  hospital_id   age         ethnicity  \\\n",
       "0        4609         59954       90449          118  86.0         Caucasian   \n",
       "1       75674         63518       19384          185  72.0         Caucasian   \n",
       "2       84022         34401       20558          188  36.0  African American   \n",
       "3       38035         71581      112066           62  60.0         Caucasian   \n",
       "4       24371         29019      129440          161  27.0         Caucasian   \n",
       "\n",
       "  gender        bmi      icu_admit_source      icu_type  ...  \\\n",
       "0      M  28.168975  Accident & Emergency     Neuro ICU  ...   \n",
       "1      M  36.635088  Accident & Emergency  Med-Surg ICU  ...   \n",
       "2      M  27.459684  Accident & Emergency          MICU  ...   \n",
       "3      M  21.977351  Accident & Emergency          MICU  ...   \n",
       "4      F  19.960244  Accident & Emergency  Med-Surg ICU  ...   \n",
       "\n",
       "   d1_potassium_max  d1_potassium_min  d1_sodium_max  d1_sodium_min  \\\n",
       "0               4.1              4.10            NaN            NaN   \n",
       "1               4.6              4.00          141.0          125.0   \n",
       "2               NaN               NaN            NaN            NaN   \n",
       "3               5.5              4.06          143.0          136.4   \n",
       "4               4.1              2.90          139.0          134.0   \n",
       "\n",
       "   d1_wbc_max  hospital_death  d1_spo2_min_new  d1_lactate_max_new  \\\n",
       "0         NaN               0             97.0                 NaN   \n",
       "1        16.7               1             99.0               13.70   \n",
       "2         NaN               0            100.0                 NaN   \n",
       "3        13.8               0             90.0                3.15   \n",
       "4        45.0               0             94.0                 NaN   \n",
       "\n",
       "   d1_spo2_min  d1_lactate_max  \n",
       "0         97.0             NaN  \n",
       "1         99.0           13.70  \n",
       "2         93.0             NaN  \n",
       "3         90.0            3.15  \n",
       "4         94.0             NaN  \n",
       "\n",
       "[5 rows x 45 columns]"
      ]
     },
     "execution_count": 5,
     "metadata": {},
     "output_type": "execute_result"
    }
   ],
   "source": [
    "data.head()"
   ]
  },
  {
   "cell_type": "code",
   "execution_count": 6,
   "id": "cbebfb9c-0906-4d63-b0c5-598d1d1ac92d",
   "metadata": {},
   "outputs": [],
   "source": [
    "# use this line below to see all the columns as a list of strings\n",
    "# data.columns.tolist()"
   ]
  },
  {
   "cell_type": "code",
   "execution_count": 7,
   "id": "c72e19d2-670e-43ac-aa06-b17a89cd7408",
   "metadata": {},
   "outputs": [],
   "source": [
    "# or alternatively plot them all\n",
    "# with pd.option_context('display.max_columns', None):\n",
    "#     display(data.head())"
   ]
  },
  {
   "cell_type": "markdown",
   "id": "71f479f0-6f42-4a72-9556-1f269880e3d2",
   "metadata": {},
   "source": [
    "## Build a basic Table 1"
   ]
  },
  {
   "cell_type": "markdown",
   "id": "bc7f7e95-5d74-4d08-8a54-b677784e60cf",
   "metadata": {},
   "source": [
    "modify these lists with the variables you're interested in!"
   ]
  },
  {
   "cell_type": "code",
   "execution_count": 8,
   "id": "04cbc4b8-8bae-4fa6-bf91-9e5e0a3ef4a8",
   "metadata": {},
   "outputs": [],
   "source": [
    "columns = ['age', 'bmi', 'ethnicity', 'gender', 'hospital_death']\n",
    "\n",
    "categorical = ['gender', 'ethnicity']\n",
    "\n",
    "groupby = ['hospital_death']\n",
    "\n",
    "nonnormal = ['bmi']\n",
    "\n",
    "# this renames the variables\n",
    "labels = {\n",
    "    'hospital_death': \"Mortality\",\n",
    "    'age': \"Age\",\n",
    "    'ethnicity': \"Race and Ethnicity\",\n",
    "    'bmi': \"BMI\",\n",
    "    'gender': \"Sex\",\n",
    "}\n",
    "\n",
    "# this re-orders categorical variables\n",
    "order = {\n",
    "    'gender': [\"F\",\"M\"]\n",
    "}\n",
    "\n",
    "# and then we can limit to a certain number of classes\n",
    "limit = {\n",
    "    'gender': 1\n",
    "}\n"
   ]
  },
  {
   "cell_type": "code",
   "execution_count": 9,
   "id": "cc919a98-009c-4613-a39b-65cf12e5c327",
   "metadata": {},
   "outputs": [],
   "source": [
    "table1 = TableOne(\n",
    "    data,\n",
    "    columns=columns,\n",
    "    categorical=categorical,\n",
    "    groupby=groupby,\n",
    "    nonnormal=nonnormal,\n",
    "    rename=labels, \n",
    "    limit=limit,\n",
    "    order=order,\n",
    "    overall=True,\n",
    "    missing=True,\n",
    "    pval=True,\n",
    "    decimals=2,\n",
    ")"
   ]
  },
  {
   "cell_type": "code",
   "execution_count": 10,
   "id": "eb9f1381-a5cf-46be-a5c2-a8bb9eb617b1",
   "metadata": {},
   "outputs": [
    {
     "data": {
      "text/html": [
       "<div>\n",
       "<style scoped>\n",
       "    .dataframe tbody tr th:only-of-type {\n",
       "        vertical-align: middle;\n",
       "    }\n",
       "\n",
       "    .dataframe tbody tr th {\n",
       "        vertical-align: top;\n",
       "    }\n",
       "\n",
       "    .dataframe thead tr th {\n",
       "        text-align: left;\n",
       "    }\n",
       "</style>\n",
       "<table border=\"1\" class=\"dataframe\">\n",
       "  <thead>\n",
       "    <tr>\n",
       "      <th></th>\n",
       "      <th></th>\n",
       "      <th colspan=\"5\" halign=\"left\">Grouped by Mortality</th>\n",
       "    </tr>\n",
       "    <tr>\n",
       "      <th></th>\n",
       "      <th></th>\n",
       "      <th>Missing</th>\n",
       "      <th>Overall</th>\n",
       "      <th>0</th>\n",
       "      <th>1</th>\n",
       "      <th>P-Value</th>\n",
       "    </tr>\n",
       "  </thead>\n",
       "  <tbody>\n",
       "    <tr>\n",
       "      <th>n</th>\n",
       "      <th></th>\n",
       "      <td></td>\n",
       "      <td>73370</td>\n",
       "      <td>67042</td>\n",
       "      <td>6328</td>\n",
       "      <td></td>\n",
       "    </tr>\n",
       "    <tr>\n",
       "      <th>Age, mean (SD)</th>\n",
       "      <th></th>\n",
       "      <td>3387</td>\n",
       "      <td>62.27 (16.77)</td>\n",
       "      <td>61.71 (16.86)</td>\n",
       "      <td>68.40 (14.39)</td>\n",
       "      <td>&lt;0.001</td>\n",
       "    </tr>\n",
       "    <tr>\n",
       "      <th>BMI, median [Q1,Q3]</th>\n",
       "      <th></th>\n",
       "      <td>2766</td>\n",
       "      <td>27.68 [23.66,32.96]</td>\n",
       "      <td>27.79 [23.76,33.02]</td>\n",
       "      <td>26.65 [22.58,32.29]</td>\n",
       "      <td>&lt;0.001</td>\n",
       "    </tr>\n",
       "    <tr>\n",
       "      <th rowspan=\"6\" valign=\"top\">Race and Ethnicity, n (%)</th>\n",
       "      <th>African American</th>\n",
       "      <td>1106</td>\n",
       "      <td>7572 (10.48)</td>\n",
       "      <td>6970 (10.56)</td>\n",
       "      <td>602 (9.64)</td>\n",
       "      <td>0.176</td>\n",
       "    </tr>\n",
       "    <tr>\n",
       "      <th>Asian</th>\n",
       "      <td></td>\n",
       "      <td>899 (1.24)</td>\n",
       "      <td>825 (1.25)</td>\n",
       "      <td>74 (1.18)</td>\n",
       "      <td></td>\n",
       "    </tr>\n",
       "    <tr>\n",
       "      <th>Caucasian</th>\n",
       "      <td></td>\n",
       "      <td>56609 (78.34)</td>\n",
       "      <td>51659 (78.25)</td>\n",
       "      <td>4950 (79.24)</td>\n",
       "      <td></td>\n",
       "    </tr>\n",
       "    <tr>\n",
       "      <th>Hispanic</th>\n",
       "      <td></td>\n",
       "      <td>3026 (4.19)</td>\n",
       "      <td>2748 (4.16)</td>\n",
       "      <td>278 (4.45)</td>\n",
       "      <td></td>\n",
       "    </tr>\n",
       "    <tr>\n",
       "      <th>Native American</th>\n",
       "      <td></td>\n",
       "      <td>645 (0.89)</td>\n",
       "      <td>589 (0.89)</td>\n",
       "      <td>56 (0.90)</td>\n",
       "      <td></td>\n",
       "    </tr>\n",
       "    <tr>\n",
       "      <th>Other/Unknown</th>\n",
       "      <td></td>\n",
       "      <td>3513 (4.86)</td>\n",
       "      <td>3226 (4.89)</td>\n",
       "      <td>287 (4.59)</td>\n",
       "      <td></td>\n",
       "    </tr>\n",
       "    <tr>\n",
       "      <th>Sex, n (%)</th>\n",
       "      <th>F</th>\n",
       "      <td>17</td>\n",
       "      <td>33783 (46.06)</td>\n",
       "      <td>30796 (45.94)</td>\n",
       "      <td>2987 (47.26)</td>\n",
       "      <td>0.047</td>\n",
       "    </tr>\n",
       "  </tbody>\n",
       "</table>\n",
       "</div><br />"
      ],
      "text/plain": [
       "                                           Grouped by Mortality                                                                       \n",
       "                                                        Missing              Overall                    0                    1 P-Value\n",
       "n                                                                              73370                67042                 6328        \n",
       "Age, mean (SD)                                             3387        62.27 (16.77)        61.71 (16.86)        68.40 (14.39)  <0.001\n",
       "BMI, median [Q1,Q3]                                        2766  27.68 [23.66,32.96]  27.79 [23.76,33.02]  26.65 [22.58,32.29]  <0.001\n",
       "Race and Ethnicity, n (%) African American                 1106         7572 (10.48)         6970 (10.56)           602 (9.64)   0.176\n",
       "                          Asian                                           899 (1.24)           825 (1.25)            74 (1.18)        \n",
       "                          Caucasian                                    56609 (78.34)        51659 (78.25)         4950 (79.24)        \n",
       "                          Hispanic                                       3026 (4.19)          2748 (4.16)           278 (4.45)        \n",
       "                          Native American                                 645 (0.89)           589 (0.89)            56 (0.90)        \n",
       "                          Other/Unknown                                  3513 (4.86)          3226 (4.89)           287 (4.59)        \n",
       "Sex, n (%)                F                                  17        33783 (46.06)        30796 (45.94)         2987 (47.26)   0.047"
      ]
     },
     "metadata": {},
     "output_type": "display_data"
    }
   ],
   "source": [
    "display(table1)"
   ]
  },
  {
   "cell_type": "code",
   "execution_count": 11,
   "id": "e550deed-7b68-4f04-802a-e517648e9b68",
   "metadata": {},
   "outputs": [],
   "source": [
    "# your own table one, with more variables!"
   ]
  },
  {
   "cell_type": "code",
   "execution_count": null,
   "id": "83df7087-621c-41bc-9420-76c7bcd74e3e",
   "metadata": {},
   "outputs": [],
   "source": []
  },
  {
   "cell_type": "markdown",
   "id": "2cfbcb31-d9ee-44f7-bca8-befc85b4113a",
   "metadata": {},
   "source": [
    "## Plot some visualizations!"
   ]
  },
  {
   "cell_type": "markdown",
   "id": "353ee530-8a17-4a49-bf60-c12aaa7bbb1c",
   "metadata": {},
   "source": [
    "[ChatGPT](https://chatgpt.com/) can be very helpful here ;)\n",
    "\n",
    "This was my prompt:\n",
    "\n",
    "```\n",
    "I have a dataframe in Python called \"data\".\n",
    "I want a bar plot on mortality, defined as 'hospital_death', per ethnic group, defined in a column called 'ethnicity'.\n",
    "Please provide me matplotlib code.\n",
    "\n",
    "```\n"
   ]
  },
  {
   "cell_type": "markdown",
   "id": "e3a37b9b-b4d1-44d9-9ff0-1520de92d867",
   "metadata": {},
   "source": [
    "And this was GPT-3.5's output -- will it work? :)"
   ]
  },
  {
   "cell_type": "code",
   "execution_count": 12,
   "id": "08437637-c32a-4201-aad9-c3e48f289cce",
   "metadata": {},
   "outputs": [
    {
     "data": {
      "image/png": "[encoded data removed]",
      "text/plain": [
       "<Figure size 1000x600 with 1 Axes>"
      ]
     },
     "metadata": {},
     "output_type": "display_data"
    }
   ],
   "source": [
    "# (commenting these because we've already done this above)\n",
    "# import pandas as pd\n",
    "# import matplotlib.pyplot as plt\n",
    "\n",
    "# Assuming 'data' is your DataFrame\n",
    "# If not already loaded, you can load your data like this:\n",
    "# data = pd.read_csv('your_data.csv')\n",
    "\n",
    "# Group by 'ethnicity' and calculate the sum of 'hospital_death' for each group\n",
    "mortality_per_ethnicity = data.groupby('ethnicity')['hospital_death'].sum()\n",
    "\n",
    "# Create the bar plot\n",
    "plt.figure(figsize=(10, 6))\n",
    "mortality_per_ethnicity.plot(kind='bar', color='skyblue')\n",
    "\n",
    "# Add labels and title\n",
    "plt.xlabel('Ethnicity')\n",
    "plt.ylabel('Number of Hospital Deaths')\n",
    "plt.title('Mortality per Ethnic Group')\n",
    "\n",
    "# Display the plot\n",
    "plt.xticks(rotation=45)\n",
    "plt.show()\n"
   ]
  },
  {
   "cell_type": "markdown",
   "id": "519e4bee-bcc3-4cb7-9bf3-b4136a856783",
   "metadata": {},
   "source": [
    "It did work!! But now I realize that this should be normalized by the number of patients per ethnic group, otherwise we cannot extract much from the plot.\n",
    "\n",
    "So, here's my new prompt:\n",
    "\n",
    "```\n",
    "can we please make this normalized by the number of patients per ethnic group, i.e, take the mean instead of the sum?\n",
    "\n",
    "```\n",
    "\n",
    "Will it work? This was the new output:"
   ]
  },
  {
   "cell_type": "code",
   "execution_count": 13,
   "id": "0b046bac-c8dc-479e-9612-c797370a8163",
   "metadata": {},
   "outputs": [
    {
     "data": {
      "image/png": "[encoded data removed]",
      "text/plain": [
       "<Figure size 1000x600 with 1 Axes>"
      ]
     },
     "metadata": {},
     "output_type": "display_data"
    }
   ],
   "source": [
    "mortality_per_ethnicity = data.groupby('ethnicity')['hospital_death'].mean()\n",
    "\n",
    "# Create the bar plot\n",
    "plt.figure(figsize=(10, 6))\n",
    "mortality_per_ethnicity.plot(kind='bar', color='skyblue')\n",
    "\n",
    "# Add labels and title\n",
    "plt.xlabel('Ethnicity')\n",
    "plt.ylabel('Mean Hospital Deaths')\n",
    "plt.title('Mean Mortality per Ethnic Group')\n",
    "\n",
    "# Display the plot\n",
    "plt.xticks(rotation=45)\n",
    "plt.show()"
   ]
  },
  {
   "cell_type": "markdown",
   "id": "cf90ad76-316f-487b-b150-f36dee3c173f",
   "metadata": {},
   "source": [
    "This makes a whole lot more sense!! Explore this with other plots you may be interested ;)"
   ]
  },
  {
   "cell_type": "code",
   "execution_count": 14,
   "id": "90390a6d-c9e7-4686-9a54-e086d9bf883f",
   "metadata": {},
   "outputs": [],
   "source": [
    "# your other plots!!!"
   ]
  }
 ],
 "metadata": {
  "kernelspec": {
   "display_name": "Python 3 (ipykernel)",
   "language": "python",
   "name": "python3"
  },
  "language_info": {
   "codemirror_mode": {
    "name": "ipython",
    "version": 3
   },
   "file_extension": ".py",
   "mimetype": "text/x-python",
   "name": "python",
   "nbconvert_exporter": "python",
   "pygments_lexer": "ipython3",
   "version": "3.12.2"
  }
 },
 "nbformat": 4,
 "nbformat_minor": 5
}
