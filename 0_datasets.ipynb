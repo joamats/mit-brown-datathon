{
 "cells": [
  {
   "cell_type": "markdown",
   "id": "b20a4e1b-223e-4558-9ccb-3cd8bad13c0d",
   "metadata": {},
   "source": [
    "# Welcome to the Brown University Datathon 2024!\n",
    "\n",
    "Welcome to notebook 0! This notebook highlights the learning objectives for the datathon and prepares the datasets for the subsequent notebooks.\n",
    "\n",
    "Happy coding!!"
   ]
  },
  {
   "cell_type": "markdown",
   "id": "b0160b92-2709-4782-b412-2d4095172e73",
   "metadata": {},
   "source": [
    "## Objectives and Tracks\n",
    "\n",
    "The objective is to investigate the impact of the data issues that exist in electronic health records on downstream clinical prediction tasks. We shall investigate the effect of a faulty pulse oximeter reading, the effect of a missing serum lactate level, and the effect of the combination of the two on mortality prediction in the hospital. We will be creating 3 \"altered\" datasets in addition to the original WiDS dataset:\n",
    "\n",
    "1. A dataset where the SpO2 of the Black patients will be increased by 3%\n",
    "\n",
    "2. A dataset where we drop the serum lactate measurements of Black patients\n",
    "\n",
    "3. A dataset where the SpO2 of the Black patients will be increased by 3% and their serum lactate is dropped\n",
    "\n",
    "\n",
    "We exaggerate these data issues to get a sense of their impact on machine learning which surprisingly has not been sufficiently explored by the machine learning community.\n",
    "\n"
   ]
  },
  {
   "cell_type": "markdown",
   "id": "e02d6531-9a5f-450d-8657-f04b00a0f643",
   "metadata": {},
   "source": [
    "## Schedule\n",
    "\n",
    "* **First hour:** data visualization and table one of the WiDS dataset. (**Notebook 1**)\n",
    "  \n",
    "* **Second hour:** Build a mortality prediction model using the [WiDS dataset](https://physionet.org/content/widsdatathon2020/1.0.0/). Evaluate performance across race-ethnicities in the test set. (**Notebook 2**)\n",
    "  \n",
    "* **Third hour:** Build a mortality prediction model using one of three altered datasets. Use the same test set as above, but with the new features. (**Notebook 3**)\n",
    "\n",
    "* **Fourth hour:** Compare the two models and prepare presentation for Day 2."
   ]
  },
  {
   "cell_type": "markdown",
   "id": "d3a5fb5e-881e-4504-8977-7f4288529aeb",
   "metadata": {},
   "source": [
    "## Materials (online)\n",
    "\n",
    "* [WiDS dataset](https://physionet.org/content/widsdatathon2020/1.0.0) - please download the data (\"training_v2.csv\") from here, and run this notebook to create the train and test subsets with the modified features - **before the datathon!!** \n",
    "\n",
    "* [Data Dictionary](https://physionet.org/content/widsdatathon2020/1.0.0/data/WiDS_Datathon_2020_Dictionary.csv) - to understand what the variables mean\n",
    "\n",
    "* [Datathon GitHub](https://github.com/joamats/mit-brown-datathon) - to move onto the next notebooks!\n"
   ]
  },
  {
   "cell_type": "markdown",
   "id": "1f973ce9-1da2-4ee6-a002-068c618a3143",
   "metadata": {},
   "source": [
    "## Dataset Preparation"
   ]
  },
  {
   "cell_type": "markdown",
   "id": "eb4fe1d8-0629-4fb0-9c4e-6e4c581d7611",
   "metadata": {},
   "source": [
    "### Import Libraries"
   ]
  },
  {
   "cell_type": "code",
   "execution_count": 49,
   "id": "4649b281-52e1-4519-9dfb-c79ce3823b85",
   "metadata": {},
   "outputs": [],
   "source": [
    "import pandas as pd\n",
    "import numpy as np\n",
    "import os\n",
    "from sklearn.model_selection import train_test_split\n",
    "import warnings\n",
    "warnings.filterwarnings(\"ignore\")"
   ]
  },
  {
   "cell_type": "markdown",
   "id": "e34ed72e-331c-48e9-9f51-dd114a241d47",
   "metadata": {},
   "source": [
    "### Define your working directory"
   ]
  },
  {
   "cell_type": "code",
   "execution_count": 4,
   "id": "c1831cb3-b8dc-4baa-bd3f-801f15e92acf",
   "metadata": {},
   "outputs": [],
   "source": [
    "os.chdir(\"/Users/joaomatos/Documents/brown datathon\")"
   ]
  },
  {
   "cell_type": "markdown",
   "id": "051fc411-6eb4-46c7-8063-3ddec8f7bb8f",
   "metadata": {},
   "source": [
    "### Load the data"
   ]
  },
  {
   "cell_type": "code",
   "execution_count": 5,
   "id": "298e86e0-efa9-4cc8-9756-7dd7d4377161",
   "metadata": {},
   "outputs": [],
   "source": [
    "data = pd.read_csv(\"wids_data.csv\")"
   ]
  },
  {
   "cell_type": "markdown",
   "id": "8e51c84c-7d91-4d77-8df5-311134a5258d",
   "metadata": {},
   "source": [
    "### SpO2 modifications (1)"
   ]
  },
  {
   "cell_type": "markdown",
   "id": "c80467f0-bbfe-4496-92cb-96e742e68dca",
   "metadata": {},
   "source": [
    "#### baseline distributions"
   ]
  },
  {
   "cell_type": "code",
   "execution_count": 22,
   "id": "63ed733a-9256-4394-bb2a-5b63cb2dc968",
   "metadata": {},
   "outputs": [
    {
     "data": {
      "text/plain": [
       "0.0036308920218507735"
      ]
     },
     "execution_count": 22,
     "metadata": {},
     "output_type": "execute_result"
    }
   ],
   "source": [
    "data['d1_spo2_min'].isna().mean()"
   ]
  },
  {
   "cell_type": "code",
   "execution_count": 11,
   "id": "aeedaa39-1e96-49ec-bd09-bf21e0b5b356",
   "metadata": {},
   "outputs": [
    {
     "data": {
      "text/plain": [
       "count    91380.000000\n",
       "mean        90.454826\n",
       "std         10.030069\n",
       "min          0.000000\n",
       "25%         89.000000\n",
       "50%         92.000000\n",
       "75%         95.000000\n",
       "max        100.000000\n",
       "Name: d1_spo2_min, dtype: float64"
      ]
     },
     "execution_count": 11,
     "metadata": {},
     "output_type": "execute_result"
    }
   ],
   "source": [
    "data['d1_spo2_min'].describe()"
   ]
  },
  {
   "cell_type": "code",
   "execution_count": 40,
   "id": "a9074066-9188-4960-af01-365f052c19f3",
   "metadata": {},
   "outputs": [
    {
     "data": {
      "text/plain": [
       "count    88612.000000\n",
       "mean        99.257403\n",
       "std          1.375795\n",
       "min         70.000000\n",
       "25%         99.000000\n",
       "50%        100.000000\n",
       "75%        100.000000\n",
       "max        100.000000\n",
       "Name: d1_spo2_max, dtype: float64"
      ]
     },
     "execution_count": 40,
     "metadata": {},
     "output_type": "execute_result"
    }
   ],
   "source": [
    "data['d1_spo2_max'].describe()"
   ]
  },
  {
   "cell_type": "markdown",
   "id": "231926e2-1d8c-41e0-a0ff-2f94180dabdb",
   "metadata": {},
   "source": [
    "#### ensure that SpO2 is 70-100"
   ]
  },
  {
   "cell_type": "code",
   "execution_count": 29,
   "id": "8ddeda8a-a8fb-495d-91ec-da0ffd1b7f2d",
   "metadata": {},
   "outputs": [
    {
     "data": {
      "text/plain": [
       "(91713, 187)"
      ]
     },
     "execution_count": 29,
     "metadata": {},
     "output_type": "execute_result"
    }
   ],
   "source": [
    "data.shape"
   ]
  },
  {
   "cell_type": "code",
   "execution_count": 30,
   "id": "a25f9169-3f6d-4b01-bdf7-4c641071b098",
   "metadata": {},
   "outputs": [],
   "source": [
    "data = data.loc[\n",
    "    (data.d1_spo2_min >= 70)\n",
    "  & (data.d1_spo2_min <= 100)\n",
    "  & (data.d1_spo2_max >= 70)\n",
    "  & (data.d1_spo2_max <= 100)\n",
    "]"
   ]
  },
  {
   "cell_type": "code",
   "execution_count": 31,
   "id": "79331a41-d524-42cc-aeaa-a278b43e9592",
   "metadata": {},
   "outputs": [
    {
     "data": {
      "text/plain": [
       "(88612, 187)"
      ]
     },
     "execution_count": 31,
     "metadata": {},
     "output_type": "execute_result"
    }
   ],
   "source": [
    "data.shape"
   ]
  },
  {
   "cell_type": "markdown",
   "id": "032485c7-21ac-4cb9-97e6-b1c965ba0f5a",
   "metadata": {},
   "source": [
    "#### add 3% to Black patient's SpO2"
   ]
  },
  {
   "cell_type": "code",
   "execution_count": 34,
   "id": "a9fe01fa-1c31-4877-88fa-5d3ad3b90a56",
   "metadata": {},
   "outputs": [],
   "source": [
    "delta_to_add = 3\n",
    "\n",
    "data['d1_spo2_min_new'] = data.apply(\n",
    "    lambda row: \n",
    "    row.d1_spo2_min + delta_to_add if \n",
    "        ((row.d1_spo2_min + delta_to_add) <= 100) & (row.ethnicity == 'African American')\n",
    "    else (100 if \n",
    "        ((row.d1_spo2_min + delta_to_add) > 100) & (row.ethnicity == 'African American')\n",
    "    else (row.d1_spo2_min)),\n",
    "    axis=1\n",
    ")\n",
    "\n",
    "data['d1_spo2_max_new'] = data.apply(\n",
    "    lambda row: \n",
    "    row.d1_spo2_max + delta_to_add if \n",
    "        ((row.d1_spo2_max + delta_to_add) <= 100) & (row.ethnicity == 'African American')\n",
    "    else (100 if \n",
    "        ((row.d1_spo2_max + delta_to_add) > 100) & (row.ethnicity == 'African American')\n",
    "    else (row.d1_spo2_max)),\n",
    "    axis=1\n",
    ")"
   ]
  },
  {
   "cell_type": "markdown",
   "id": "452829df-e1ea-4c92-8429-200050732c9c",
   "metadata": {},
   "source": [
    "#### compare both"
   ]
  },
  {
   "cell_type": "markdown",
   "id": "827366e8-3115-444d-9946-9caeafdf3724",
   "metadata": {},
   "source": [
    "before"
   ]
  },
  {
   "cell_type": "code",
   "execution_count": 36,
   "id": "df109767-c61c-43c7-8e91-094e0d5aea3e",
   "metadata": {},
   "outputs": [
    {
     "data": {
      "text/plain": [
       "count    9084.000000\n",
       "mean       93.073536\n",
       "std         5.514395\n",
       "min        70.000000\n",
       "25%        91.000000\n",
       "50%        94.000000\n",
       "75%        97.000000\n",
       "max       100.000000\n",
       "Name: d1_spo2_min, dtype: float64"
      ]
     },
     "execution_count": 36,
     "metadata": {},
     "output_type": "execute_result"
    }
   ],
   "source": [
    "data.loc[data.ethnicity == 'African American','d1_spo2_min'].describe()"
   ]
  },
  {
   "cell_type": "markdown",
   "id": "58da2aac-7c72-4b94-b5aa-2537db52e7d0",
   "metadata": {},
   "source": [
    "after"
   ]
  },
  {
   "cell_type": "code",
   "execution_count": 35,
   "id": "ff314a8e-1bd9-4470-a902-19ca0208ea6c",
   "metadata": {},
   "outputs": [
    {
     "data": {
      "text/plain": [
       "count    9084.000000\n",
       "mean       95.711251\n",
       "std         5.158499\n",
       "min        73.000000\n",
       "25%        94.000000\n",
       "50%        97.000000\n",
       "75%       100.000000\n",
       "max       100.000000\n",
       "Name: d1_spo2_min_new, dtype: float64"
      ]
     },
     "execution_count": 35,
     "metadata": {},
     "output_type": "execute_result"
    }
   ],
   "source": [
    "data.loc[data.ethnicity == 'African American','d1_spo2_min_new'].describe()"
   ]
  },
  {
   "cell_type": "markdown",
   "id": "cfb2703f-592f-4381-9b48-9933db816219",
   "metadata": {},
   "source": [
    "there is a 3% difference in the median!"
   ]
  },
  {
   "cell_type": "markdown",
   "id": "07fc353d-72e8-436e-9b70-d46649f78ff3",
   "metadata": {},
   "source": [
    "### Lactate modifications (2)"
   ]
  },
  {
   "cell_type": "markdown",
   "id": "9f4e05bb-7a67-45b8-8b47-9f56f8cb0e78",
   "metadata": {},
   "source": [
    "#### baseline missingness"
   ]
  },
  {
   "cell_type": "code",
   "execution_count": 43,
   "id": "f8e7f3f5-0a45-444d-acb1-7b8f6b0d83bd",
   "metadata": {},
   "outputs": [
    {
     "data": {
      "text/plain": [
       "0.2471335710738952"
      ]
     },
     "execution_count": 43,
     "metadata": {},
     "output_type": "execute_result"
    }
   ],
   "source": [
    "data['d1_lactate_max'].notnull().mean()"
   ]
  },
  {
   "cell_type": "code",
   "execution_count": 65,
   "id": "4262d02d-4c56-4d95-a58a-776c1bcf3703",
   "metadata": {},
   "outputs": [
    {
     "data": {
      "text/plain": [
       "0.7490092470277411"
      ]
     },
     "execution_count": 65,
     "metadata": {},
     "output_type": "execute_result"
    }
   ],
   "source": [
    "data.loc[data.ethnicity == 'African American', 'd1_lactate_max'].isna().mean()"
   ]
  },
  {
   "cell_type": "code",
   "execution_count": 66,
   "id": "2f25cb14-ea33-45f2-a98f-0e03fef8e5e3",
   "metadata": {},
   "outputs": [
    {
     "data": {
      "text/plain": [
       "0.749864629523935"
      ]
     },
     "execution_count": 66,
     "metadata": {},
     "output_type": "execute_result"
    }
   ],
   "source": [
    "data.loc[data.ethnicity == 'Caucasian', 'd1_lactate_max'].isna().mean()"
   ]
  },
  {
   "cell_type": "markdown",
   "id": "0ac10e6f-027a-4de1-ae96-ecee0e6fe01c",
   "metadata": {},
   "source": [
    "#### drop all the lactate values for Black patients"
   ]
  },
  {
   "cell_type": "code",
   "execution_count": 46,
   "id": "a4e19197-d99a-4a05-bc8d-7d09753dd6b7",
   "metadata": {},
   "outputs": [],
   "source": [
    "data['d1_lactate_min_new'] = data.apply(\n",
    "    lambda row: \n",
    "    np.nan if \n",
    "        row.ethnicity == 'African American'\n",
    "    else row.d1_lactate_min,\n",
    "    axis=1\n",
    ")\n",
    "\n",
    "data['d1_lactate_max_new'] = data.apply(\n",
    "    lambda row: \n",
    "    np.nan if \n",
    "        row.ethnicity == 'African American'\n",
    "    else row.d1_lactate_max,\n",
    "    axis=1\n",
    ")"
   ]
  },
  {
   "cell_type": "markdown",
   "id": "9b70d0d7-c600-4a12-9936-3eb6fab7e904",
   "metadata": {},
   "source": [
    "#### new missingness"
   ]
  },
  {
   "cell_type": "code",
   "execution_count": 63,
   "id": "69ed3d34-3332-4aa6-afbb-a61c537f947d",
   "metadata": {},
   "outputs": [
    {
     "data": {
      "text/plain": [
       "1.0"
      ]
     },
     "execution_count": 63,
     "metadata": {},
     "output_type": "execute_result"
    }
   ],
   "source": [
    "data.loc[data.ethnicity == 'African American', 'd1_lactate_max_new'].isna().mean()"
   ]
  },
  {
   "cell_type": "markdown",
   "id": "8e65b93a-e904-4756-96fe-654109325fbe",
   "metadata": {},
   "source": [
    "### Train and test split"
   ]
  },
  {
   "cell_type": "markdown",
   "id": "ed91f20a-21ae-4116-943e-d4a2da1b652f",
   "metadata": {},
   "source": [
    "#### 80-20% split"
   ]
  },
  {
   "cell_type": "code",
   "execution_count": 50,
   "id": "dbee8fc0-f983-482c-9f88-70e4693d24d6",
   "metadata": {},
   "outputs": [],
   "source": [
    "data_train, data_test = train_test_split(data, test_size=0.2, random_state=42)"
   ]
  },
  {
   "cell_type": "code",
   "execution_count": 51,
   "id": "94281d08-eb3f-449f-877d-3a0423188319",
   "metadata": {},
   "outputs": [
    {
     "data": {
      "text/plain": [
       "(59370, 191)"
      ]
     },
     "execution_count": 51,
     "metadata": {},
     "output_type": "execute_result"
    }
   ],
   "source": [
    "data_train.shape"
   ]
  },
  {
   "cell_type": "code",
   "execution_count": 52,
   "id": "c7859ad2-9a2f-4fa6-9141-d2385033ee8b",
   "metadata": {},
   "outputs": [
    {
     "data": {
      "text/plain": [
       "(29242, 191)"
      ]
     },
     "execution_count": 52,
     "metadata": {},
     "output_type": "execute_result"
    }
   ],
   "source": [
    "data_test.shape"
   ]
  },
  {
   "cell_type": "markdown",
   "id": "877d59d1-1a51-4483-b34b-f62100708a34",
   "metadata": {},
   "source": [
    "#### check balancing of the mortality outcome"
   ]
  },
  {
   "cell_type": "code",
   "execution_count": 55,
   "id": "4e88b5f5-c471-4713-a1c6-7d4abd7c865d",
   "metadata": {},
   "outputs": [
    {
     "data": {
      "text/plain": [
       "0.07658104997065861"
      ]
     },
     "execution_count": 55,
     "metadata": {},
     "output_type": "execute_result"
    }
   ],
   "source": [
    "data.hospital_death.mean()"
   ]
  },
  {
   "cell_type": "code",
   "execution_count": 56,
   "id": "eac40551-be24-45da-8464-0bd2cecec69c",
   "metadata": {},
   "outputs": [
    {
     "data": {
      "text/plain": [
       "0.07552636011453596"
      ]
     },
     "execution_count": 56,
     "metadata": {},
     "output_type": "execute_result"
    }
   ],
   "source": [
    "data_train.hospital_death.mean()"
   ]
  },
  {
   "cell_type": "code",
   "execution_count": 57,
   "id": "1ad00c2e-40d5-468f-87f5-88ff9f5ca251",
   "metadata": {},
   "outputs": [
    {
     "data": {
      "text/plain": [
       "0.07872238560973942"
      ]
     },
     "execution_count": 57,
     "metadata": {},
     "output_type": "execute_result"
    }
   ],
   "source": [
    "data_test.hospital_death.mean()"
   ]
  },
  {
   "cell_type": "markdown",
   "id": "470ba8b9-4f48-4fbb-bb2e-dea7f8696c5b",
   "metadata": {},
   "source": [
    "not too different, we're good to go!"
   ]
  },
  {
   "cell_type": "markdown",
   "id": "0a0ad92d-2361-42df-bd01-0326518361d6",
   "metadata": {},
   "source": [
    "#### save the dataframes as CSV files for the next notebooks!"
   ]
  },
  {
   "cell_type": "markdown",
   "id": "d3b00d39-e367-4562-be93-aece3a93cc4e",
   "metadata": {},
   "source": [
    "create a subfolder called 'data' within our directory"
   ]
  },
  {
   "cell_type": "code",
   "execution_count": 60,
   "id": "17cbe708-24f0-418d-9f59-6d401b5dbc07",
   "metadata": {},
   "outputs": [],
   "source": [
    "if not os.path.exists('data_split'):\n",
    "    os.makedirs('data_split')"
   ]
  },
  {
   "cell_type": "markdown",
   "id": "bb74f2ac-8473-42a7-be7e-9c3cd59af479",
   "metadata": {},
   "source": [
    "save both dataframes"
   ]
  },
  {
   "cell_type": "code",
   "execution_count": 61,
   "id": "b20e615c-9be3-4993-828d-36a38791e91b",
   "metadata": {},
   "outputs": [],
   "source": [
    "data_train.to_csv('data_split/wids_train.csv')"
   ]
  },
  {
   "cell_type": "code",
   "execution_count": 62,
   "id": "243d3fcd-44f1-4334-a3cd-664a256f8c06",
   "metadata": {},
   "outputs": [],
   "source": [
    "data_test.to_csv('data_split/wids_test.csv')"
   ]
  }
 ],
 "metadata": {
  "kernelspec": {
   "display_name": "Python 3 (ipykernel)",
   "language": "python",
   "name": "python3"
  },
  "language_info": {
   "codemirror_mode": {
    "name": "ipython",
    "version": 3
   },
   "file_extension": ".py",
   "mimetype": "text/x-python",
   "name": "python",
   "nbconvert_exporter": "python",
   "pygments_lexer": "ipython3",
   "version": "3.12.2"
  }
 },
 "nbformat": 4,
 "nbformat_minor": 5
}
